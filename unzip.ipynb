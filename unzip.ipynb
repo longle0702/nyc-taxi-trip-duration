{
 "cells": [
  {
   "cell_type": "code",
   "execution_count": 1,
   "id": "d9b1da77",
   "metadata": {},
   "outputs": [],
   "source": [
    "import os\n",
    "import zipfile"
   ]
  },
  {
   "cell_type": "code",
   "execution_count": 2,
   "id": "f041ce2e",
   "metadata": {},
   "outputs": [
    {
     "name": "stdout",
     "output_type": "stream",
     "text": [
      "Extracted /home/long/longdata/nyc-taxi-trip-duration/dataset/sample_submission.zip to /home/long/longdata/nyc-taxi-trip-duration/dataset\n",
      "Extracted /home/long/longdata/nyc-taxi-trip-duration/dataset/test.zip to /home/long/longdata/nyc-taxi-trip-duration/dataset\n",
      "Extracted /home/long/longdata/nyc-taxi-trip-duration/dataset/train.zip to /home/long/longdata/nyc-taxi-trip-duration/dataset\n"
     ]
    }
   ],
   "source": [
    "sample = r'/home/long/longdata/nyc-taxi-trip-duration/dataset/sample_submission.zip'\n",
    "test = r'/home/long/longdata/nyc-taxi-trip-duration/dataset/test.zip'\n",
    "train = r'/home/long/longdata/nyc-taxi-trip-duration/dataset/train.zip'\n",
    "arr = [sample, test, train]\n",
    "for i in arr:\n",
    "    if not os.path.exists(i):\n",
    "        print(f'File {i} does not exist.')\n",
    "        continue\n",
    "\n",
    "    with zipfile.ZipFile(i, 'r') as zip_ref:\n",
    "        zip_ref.extractall(os.path.dirname(i))\n",
    "        print(f'Extracted {i} to {os.path.dirname(i)}')"
   ]
  }
 ],
 "metadata": {
  "kernelspec": {
   "display_name": "base",
   "language": "python",
   "name": "python3"
  },
  "language_info": {
   "codemirror_mode": {
    "name": "ipython",
    "version": 3
   },
   "file_extension": ".py",
   "mimetype": "text/x-python",
   "name": "python",
   "nbconvert_exporter": "python",
   "pygments_lexer": "ipython3",
   "version": "3.12.9"
  }
 },
 "nbformat": 4,
 "nbformat_minor": 5
}
