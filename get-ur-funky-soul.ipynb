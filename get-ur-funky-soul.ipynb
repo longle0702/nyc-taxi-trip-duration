{
 "cells": [
  {
   "cell_type": "code",
   "execution_count": 4,
   "id": "b90dd19e",
   "metadata": {},
   "outputs": [],
   "source": [
    "import numpy as np\n",
    "import pandas as pd\n",
    "import tensorflow as tf\n",
    "from tensorflow import keras\n",
    "from tensorflow.keras import layers\n",
    "from sklearn.preprocessing import StandardScaler\n",
    "from sklearn.model_selection import train_test_split\n",
    "import matplotlib.pyplot as plt"
   ]
  },
  {
   "cell_type": "code",
   "execution_count": 5,
   "id": "3bca81b6",
   "metadata": {},
   "outputs": [
    {
     "name": "stdout",
     "output_type": "stream",
     "text": [
      "<class 'pandas.core.frame.DataFrame'>\n",
      "RangeIndex: 1458644 entries, 0 to 1458643\n",
      "Data columns (total 16 columns):\n",
      " #   Column                 Non-Null Count    Dtype  \n",
      "---  ------                 --------------    -----  \n",
      " 0   vendor_id              1458644 non-null  int64  \n",
      " 1   passenger_count        1458644 non-null  int64  \n",
      " 2   pickup_longitude       1458644 non-null  float64\n",
      " 3   pickup_latitude        1458644 non-null  float64\n",
      " 4   dropoff_longitude      1458644 non-null  float64\n",
      " 5   dropoff_latitude       1458644 non-null  float64\n",
      " 6   store_and_fwd_flag     1458644 non-null  int64  \n",
      " 7   trip_duration          1458644 non-null  int64  \n",
      " 8   haversine_km           1458644 non-null  float64\n",
      " 9   bearing                1458644 non-null  float64\n",
      " 10  trip_duration_minutes  1458644 non-null  float64\n",
      " 11  log_trip_duration      1458644 non-null  float64\n",
      " 12  avg_speed_kph          1458644 non-null  float64\n",
      " 13  is_zero_distance       1458644 non-null  bool   \n",
      " 14  pickup_cluster         1458644 non-null  int64  \n",
      " 15  dropoff_cluster        1458644 non-null  int64  \n",
      "dtypes: bool(1), float64(9), int64(6)\n",
      "memory usage: 168.3 MB\n"
     ]
    }
   ],
   "source": [
    "df = pd.read_csv(r'/home/long/longdata/kaggle compe/dataset/num_df.csv')\n",
    "df.info()"
   ]
  },
  {
   "cell_type": "code",
   "execution_count": 6,
   "id": "c00b0ee9",
   "metadata": {},
   "outputs": [
    {
     "name": "stdout",
     "output_type": "stream",
     "text": [
      "Index(['pickup_longitude', 'pickup_latitude', 'dropoff_longitude',\n",
      "       'dropoff_latitude', 'haversine_km', 'bearing', 'trip_duration_minutes',\n",
      "       'log_trip_duration', 'avg_speed_kph', 'is_zero_distance',\n",
      "       'pickup_cluster', 'dropoff_cluster'],\n",
      "      dtype='object')\n"
     ]
    }
   ],
   "source": [
    "x = df.drop(['vendor_id', 'passenger_count', 'store_and_fwd_flag', 'trip_duration'], axis=1)\n",
    "y = df['trip_duration']\n",
    "print(x.columns)\n",
    "from sklearn.model_selection import train_test_split\n",
    "x_train, x_test, y_train, y_test = train_test_split(x, y, test_size=0.01, random_state=42)"
   ]
  },
  {
   "cell_type": "code",
   "execution_count": 11,
   "id": "d7cb1029",
   "metadata": {},
   "outputs": [],
   "source": [
    "def rmsle(y_true, y_pred):\n",
    "    y_true = tf.cast(y_true, tf.float32)\n",
    "    y_pred = tf.cast(y_pred, tf.float32)\n",
    "    y_true = tf.clip_by_value(y_true, 1e-7, tf.reduce_max(y_true))\n",
    "    y_pred = tf.clip_by_value(y_pred, 1e-7, tf.reduce_max(y_pred))\n",
    "    return tf.sqrt(tf.reduce_mean(tf.square(tf.math.log(y_pred + 1.0) - tf.math.log(y_true + 1.0))))"
   ]
  },
  {
   "cell_type": "code",
   "execution_count": 8,
   "id": "c3ee0650",
   "metadata": {},
   "outputs": [],
   "source": [
    "scaler = StandardScaler()\n",
    "x_train_scaled = scaler.fit_transform(x_train)\n",
    "x_test_scaled = scaler.transform(x_test)"
   ]
  },
  {
   "cell_type": "code",
   "execution_count": 14,
   "id": "b47fedc0",
   "metadata": {},
   "outputs": [],
   "source": [
    "model = keras.Sequential([\n",
    "    layers.Input(shape=(12,)), \n",
    "\n",
    "    layers.Dense(256, activation='relu'),\n",
    "    layers.BatchNormalization(),\n",
    "    layers.Dropout(0.3),\n",
    "\n",
    "    layers.Dense(128, activation='relu'),\n",
    "    layers.BatchNormalization(),\n",
    "    layers.Dropout(0.3),\n",
    "\n",
    "    layers.Dense(64, activation='relu'),\n",
    "\n",
    "    layers.Dense(1)\n",
    "])\n",
    "\n",
    "model.compile(\n",
    "    optimizer=keras.optimizers.Adam(learning_rate=0.001),\n",
    "    loss=rmsle,\n",
    "    metrics=[rmsle]\n",
    ")\n",
    "\n",
    "early_stopping = keras.callbacks.EarlyStopping(\n",
    "    monitor='val_loss',\n",
    "    patience=5,\n",
    "    restore_best_weights=True,\n",
    "    verbose=1\n",
    ")"
   ]
  },
  {
   "cell_type": "code",
   "execution_count": 15,
   "id": "fe4a08db",
   "metadata": {},
   "outputs": [
    {
     "name": "stdout",
     "output_type": "stream",
     "text": [
      "x_train_scaled shape: (1444057, 12)\n",
      "y_train shape: (1444057,)\n"
     ]
    }
   ],
   "source": [
    "print(\"x_train_scaled shape:\", x_train_scaled.shape)\n",
    "print(\"y_train shape:\", y_train.shape)\n"
   ]
  },
  {
   "cell_type": "code",
   "execution_count": null,
   "id": "9a0d4427",
   "metadata": {},
   "outputs": [
    {
     "name": "stdout",
     "output_type": "stream",
     "text": [
      "Epoch 1/100\n"
     ]
    },
    {
     "name": "stderr",
     "output_type": "stream",
     "text": [
      "WARNING: All log messages before absl::InitializeLog() is called are written to STDERR\n",
      "I0000 00:00:1744999507.093724 1253708 service.cc:152] XLA service 0x7f3590002420 initialized for platform CUDA (this does not guarantee that XLA will be used). Devices:\n",
      "I0000 00:00:1744999507.093763 1253708 service.cc:160]   StreamExecutor device (0): NVIDIA GeForce RTX 3060, Compute Capability 8.6\n",
      "2025-04-19 01:05:07.162165: I tensorflow/compiler/mlir/tensorflow/utils/dump_mlir_util.cc:269] disabling MLIR crash reproducer, set env var `MLIR_CRASH_REPRODUCER_DIRECTORY` to enable.\n",
      "I0000 00:00:1744999507.408553 1253708 cuda_dnn.cc:529] Loaded cuDNN version 90300\n"
     ]
    },
    {
     "name": "stdout",
     "output_type": "stream",
     "text": [
      "\u001b[1m  27/4513\u001b[0m \u001b[37m━━━━━━━━━━━━━━━━━━━━\u001b[0m \u001b[1m17s\u001b[0m 4ms/step - loss: 5.9807 - rmsle: 5.9807 "
     ]
    },
    {
     "name": "stderr",
     "output_type": "stream",
     "text": [
      "I0000 00:00:1744999509.158978 1253708 device_compiler.h:188] Compiled cluster using XLA!  This line is logged at most once for the lifetime of the process.\n"
     ]
    },
    {
     "name": "stdout",
     "output_type": "stream",
     "text": [
      "\u001b[1m4513/4513\u001b[0m \u001b[32m━━━━━━━━━━━━━━━━━━━━\u001b[0m\u001b[37m\u001b[0m \u001b[1m24s\u001b[0m 5ms/step - loss: 1.0930 - rmsle: 1.0930 - val_loss: 0.0778 - val_rmsle: 0.0778\n",
      "Epoch 2/100\n",
      "\u001b[1m4501/4513\u001b[0m \u001b[32m━━━━━━━━━━━━━━━━━━━\u001b[0m\u001b[37m━\u001b[0m \u001b[1m0s\u001b[0m 3ms/step - loss: 0.1450 - rmsle: 0.1450"
     ]
    }
   ],
   "source": [
    "history = model.fit(\n",
    "    x_train_scaled, y_train,\n",
    "    validation_split=0.2,\n",
    "    epochs=100,\n",
    "    batch_size=256,\n",
    "    callbacks=[early_stopping],\n",
    "    verbose=1\n",
    ")\n",
    "\n",
    "loss, rmsle_score = model.evaluate(x_test_scaled, y_test, verbose=1)\n",
    "print(\"Final RMSLE on test set:\", rmsle_score)"
   ]
  },
  {
   "cell_type": "code",
   "execution_count": null,
   "id": "d8ce17aa",
   "metadata": {},
   "outputs": [],
   "source": [
    "plt.figure(figsize=(10, 6))\n",
    "plt.plot(history.history['loss'], label='Training RMSLE')\n",
    "plt.plot(history.history['val_loss'], label='Validation RMSLE')\n",
    "plt.title('Model RMSLE Over Epochs')\n",
    "plt.xlabel('Epoch')\n",
    "plt.ylabel('RMSLE')\n",
    "plt.legend()\n",
    "plt.grid(True)\n",
    "plt.tight_layout()\n",
    "plt.show()"
   ]
  },
  {
   "cell_type": "code",
   "execution_count": null,
   "id": "48dc8260",
   "metadata": {},
   "outputs": [],
   "source": [
    "loss, rmsle_score = model.evaluate(x_test_scaled, y_test, verbose=1)\n",
    "print(\"Test RMSLE:\", rmsle_score)"
   ]
  }
 ],
 "metadata": {
  "kernelspec": {
   "display_name": "base",
   "language": "python",
   "name": "python3"
  },
  "language_info": {
   "codemirror_mode": {
    "name": "ipython",
    "version": 3
   },
   "file_extension": ".py",
   "mimetype": "text/x-python",
   "name": "python",
   "nbconvert_exporter": "python",
   "pygments_lexer": "ipython3",
   "version": "3.12.9"
  }
 },
 "nbformat": 4,
 "nbformat_minor": 5
}
