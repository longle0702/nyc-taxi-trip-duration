{
 "cells": [
  {
   "cell_type": "code",
   "execution_count": 26,
   "id": "b90dd19e",
   "metadata": {},
   "outputs": [],
   "source": [
    "import numpy as np\n",
    "import pandas as pd\n",
    "import tensorflow as tf\n",
    "from tensorflow import keras\n",
    "from tensorflow.keras import layers\n",
    "from sklearn.preprocessing import StandardScaler\n",
    "import matplotlib.pyplot as plt\n",
    "from sklearn.cluster import KMeans\n",
    "from sklearn.metrics import mean_squared_log_error\n",
    "from tensorflow.keras.models import load_model"
   ]
  },
  {
   "cell_type": "code",
   "execution_count": 27,
   "id": "3bca81b6",
   "metadata": {},
   "outputs": [
    {
     "name": "stdout",
     "output_type": "stream",
     "text": [
      "<class 'pandas.core.frame.DataFrame'>\n",
      "RangeIndex: 1458644 entries, 0 to 1458643\n",
      "Data columns (total 9 columns):\n",
      " #   Column             Non-Null Count    Dtype  \n",
      "---  ------             --------------    -----  \n",
      " 0   pickup_longitude   1458644 non-null  float64\n",
      " 1   pickup_latitude    1458644 non-null  float64\n",
      " 2   dropoff_longitude  1458644 non-null  float64\n",
      " 3   dropoff_latitude   1458644 non-null  float64\n",
      " 4   trip_duration      1458644 non-null  int64  \n",
      " 5   haversine_km       1458644 non-null  float64\n",
      " 6   bearing            1458644 non-null  float64\n",
      " 7   pickup_cluster     1458644 non-null  int64  \n",
      " 8   dropoff_cluster    1458644 non-null  int64  \n",
      "dtypes: float64(6), int64(3)\n",
      "memory usage: 100.2 MB\n"
     ]
    }
   ],
   "source": [
    "df = pd.read_csv(r'/home/long/longdata/kaggle compe/dataset/num_df.csv')\n",
    "df.info()"
   ]
  },
  {
   "cell_type": "code",
   "execution_count": 32,
   "id": "c00b0ee9",
   "metadata": {},
   "outputs": [
    {
     "name": "stdout",
     "output_type": "stream",
     "text": [
      "Index(['pickup_longitude', 'pickup_latitude', 'dropoff_longitude',\n",
      "       'dropoff_latitude', 'haversine_km', 'bearing', 'pickup_cluster',\n",
      "       'dropoff_cluster'],\n",
      "      dtype='object')\n"
     ]
    }
   ],
   "source": [
    "x = df.drop('trip_duration', axis=1)\n",
    "y = df['trip_duration']\n",
    "print(x.columns)"
   ]
  },
  {
   "cell_type": "code",
   "execution_count": 33,
   "id": "a75ad61e",
   "metadata": {},
   "outputs": [
    {
     "data": {
      "text/html": [
       "<div>\n",
       "<style scoped>\n",
       "    .dataframe tbody tr th:only-of-type {\n",
       "        vertical-align: middle;\n",
       "    }\n",
       "\n",
       "    .dataframe tbody tr th {\n",
       "        vertical-align: top;\n",
       "    }\n",
       "\n",
       "    .dataframe thead th {\n",
       "        text-align: right;\n",
       "    }\n",
       "</style>\n",
       "<table border=\"1\" class=\"dataframe\">\n",
       "  <thead>\n",
       "    <tr style=\"text-align: right;\">\n",
       "      <th></th>\n",
       "      <th>pickup_longitude</th>\n",
       "      <th>pickup_latitude</th>\n",
       "      <th>dropoff_longitude</th>\n",
       "      <th>dropoff_latitude</th>\n",
       "      <th>trip_duration</th>\n",
       "      <th>haversine_km</th>\n",
       "      <th>bearing</th>\n",
       "      <th>pickup_cluster</th>\n",
       "      <th>dropoff_cluster</th>\n",
       "    </tr>\n",
       "  </thead>\n",
       "  <tbody>\n",
       "    <tr>\n",
       "      <th>0</th>\n",
       "      <td>-73.982155</td>\n",
       "      <td>40.767937</td>\n",
       "      <td>-73.964630</td>\n",
       "      <td>40.765602</td>\n",
       "      <td>455</td>\n",
       "      <td>1.498521</td>\n",
       "      <td>99.970196</td>\n",
       "      <td>0</td>\n",
       "      <td>8</td>\n",
       "    </tr>\n",
       "    <tr>\n",
       "      <th>1</th>\n",
       "      <td>-73.980415</td>\n",
       "      <td>40.738564</td>\n",
       "      <td>-73.999481</td>\n",
       "      <td>40.731152</td>\n",
       "      <td>663</td>\n",
       "      <td>1.805507</td>\n",
       "      <td>242.846232</td>\n",
       "      <td>0</td>\n",
       "      <td>9</td>\n",
       "    </tr>\n",
       "    <tr>\n",
       "      <th>2</th>\n",
       "      <td>-73.979027</td>\n",
       "      <td>40.763939</td>\n",
       "      <td>-74.005333</td>\n",
       "      <td>40.710087</td>\n",
       "      <td>2124</td>\n",
       "      <td>6.385098</td>\n",
       "      <td>200.319835</td>\n",
       "      <td>0</td>\n",
       "      <td>9</td>\n",
       "    </tr>\n",
       "    <tr>\n",
       "      <th>3</th>\n",
       "      <td>-74.010040</td>\n",
       "      <td>40.719971</td>\n",
       "      <td>-74.012268</td>\n",
       "      <td>40.706718</td>\n",
       "      <td>429</td>\n",
       "      <td>1.485498</td>\n",
       "      <td>187.262300</td>\n",
       "      <td>4</td>\n",
       "      <td>9</td>\n",
       "    </tr>\n",
       "    <tr>\n",
       "      <th>4</th>\n",
       "      <td>-73.973053</td>\n",
       "      <td>40.793209</td>\n",
       "      <td>-73.972923</td>\n",
       "      <td>40.782520</td>\n",
       "      <td>435</td>\n",
       "      <td>1.188588</td>\n",
       "      <td>179.473585</td>\n",
       "      <td>3</td>\n",
       "      <td>8</td>\n",
       "    </tr>\n",
       "  </tbody>\n",
       "</table>\n",
       "</div>"
      ],
      "text/plain": [
       "   pickup_longitude  pickup_latitude  dropoff_longitude  dropoff_latitude  \\\n",
       "0        -73.982155        40.767937         -73.964630         40.765602   \n",
       "1        -73.980415        40.738564         -73.999481         40.731152   \n",
       "2        -73.979027        40.763939         -74.005333         40.710087   \n",
       "3        -74.010040        40.719971         -74.012268         40.706718   \n",
       "4        -73.973053        40.793209         -73.972923         40.782520   \n",
       "\n",
       "   trip_duration  haversine_km     bearing  pickup_cluster  dropoff_cluster  \n",
       "0            455      1.498521   99.970196               0                8  \n",
       "1            663      1.805507  242.846232               0                9  \n",
       "2           2124      6.385098  200.319835               0                9  \n",
       "3            429      1.485498  187.262300               4                9  \n",
       "4            435      1.188588  179.473585               3                8  "
      ]
     },
     "execution_count": 33,
     "metadata": {},
     "output_type": "execute_result"
    }
   ],
   "source": [
    "df.head()"
   ]
  },
  {
   "cell_type": "code",
   "execution_count": 34,
   "id": "d7cb1029",
   "metadata": {},
   "outputs": [],
   "source": [
    "def rmsle(y_true, y_pred):\n",
    "    y_true = tf.cast(y_true, tf.float32)\n",
    "    y_pred = tf.cast(y_pred, tf.float32)\n",
    "    y_true = tf.clip_by_value(y_true, 1e-7, tf.reduce_max(y_true))\n",
    "    y_pred = tf.clip_by_value(y_pred, 1e-7, tf.reduce_max(y_pred))\n",
    "    log_true = tf.math.log(y_true + 1.0)\n",
    "    log_pred = tf.math.log(y_pred + 1.0)\n",
    "    return tf.sqrt(tf.reduce_mean(tf.square(log_pred - log_true)))"
   ]
  },
  {
   "cell_type": "code",
   "execution_count": 35,
   "id": "c3ee0650",
   "metadata": {},
   "outputs": [],
   "source": [
    "scaler = StandardScaler()\n",
    "x_scaled = scaler.fit_transform(x)"
   ]
  },
  {
   "cell_type": "code",
   "execution_count": 36,
   "id": "b47fedc0",
   "metadata": {},
   "outputs": [],
   "source": [
    "model = keras.Sequential([\n",
    "    layers.Input(shape=(8,)), \n",
    "\n",
    "    layers.Dense(256, activation='relu'),\n",
    "    layers.BatchNormalization(),\n",
    "    layers.Dropout(0.3),\n",
    "\n",
    "    layers.Dense(128, activation='relu'),\n",
    "    layers.BatchNormalization(),\n",
    "    layers.Dropout(0.3),\n",
    "\n",
    "    layers.Dense(64, activation='relu'),\n",
    "\n",
    "    layers.Dense(1)\n",
    "])\n",
    "\n",
    "model.compile(\n",
    "    optimizer=keras.optimizers.Adam(learning_rate=0.001),\n",
    "    loss=rmsle,\n",
    "    metrics=[rmsle]\n",
    ")\n",
    "\n",
    "early_stopping = keras.callbacks.EarlyStopping(\n",
    "    monitor='val_loss',\n",
    "    patience=5,\n",
    "    restore_best_weights=True,\n",
    "    verbose=1\n",
    ")"
   ]
  },
  {
   "cell_type": "code",
   "execution_count": 40,
   "id": "9a0d4427",
   "metadata": {},
   "outputs": [
    {
     "name": "stdout",
     "output_type": "stream",
     "text": [
      "Epoch 1/100\n",
      "\u001b[1m5641/5641\u001b[0m \u001b[32m━━━━━━━━━━━━━━━━━━━━\u001b[0m\u001b[37m\u001b[0m \u001b[1m24s\u001b[0m 4ms/step - loss: 0.4655 - rmsle: 0.4655 - val_loss: 0.4837 - val_rmsle: 0.4837\n",
      "Epoch 2/100\n",
      "\u001b[1m5641/5641\u001b[0m \u001b[32m━━━━━━━━━━━━━━━━━━━━\u001b[0m\u001b[37m\u001b[0m \u001b[1m22s\u001b[0m 4ms/step - loss: 0.4638 - rmsle: 0.4638 - val_loss: 0.4605 - val_rmsle: 0.4605\n",
      "Epoch 3/100\n",
      "\u001b[1m5641/5641\u001b[0m \u001b[32m━━━━━━━━━━━━━━━━━━━━\u001b[0m\u001b[37m\u001b[0m \u001b[1m26s\u001b[0m 5ms/step - loss: 0.4648 - rmsle: 0.4648 - val_loss: 0.4526 - val_rmsle: 0.4525\n",
      "Epoch 4/100\n",
      "\u001b[1m5641/5641\u001b[0m \u001b[32m━━━━━━━━━━━━━━━━━━━━\u001b[0m\u001b[37m\u001b[0m \u001b[1m22s\u001b[0m 4ms/step - loss: 0.4661 - rmsle: 0.4661 - val_loss: 0.4560 - val_rmsle: 0.4560\n",
      "Epoch 5/100\n",
      "\u001b[1m5641/5641\u001b[0m \u001b[32m━━━━━━━━━━━━━━━━━━━━\u001b[0m\u001b[37m\u001b[0m \u001b[1m21s\u001b[0m 4ms/step - loss: 0.4627 - rmsle: 0.4627 - val_loss: 0.4806 - val_rmsle: 0.4805\n",
      "Epoch 6/100\n",
      "\u001b[1m5641/5641\u001b[0m \u001b[32m━━━━━━━━━━━━━━━━━━━━\u001b[0m\u001b[37m\u001b[0m \u001b[1m22s\u001b[0m 4ms/step - loss: 0.4627 - rmsle: 0.4627 - val_loss: 0.4893 - val_rmsle: 0.4893\n",
      "Epoch 7/100\n",
      "\u001b[1m5641/5641\u001b[0m \u001b[32m━━━━━━━━━━━━━━━━━━━━\u001b[0m\u001b[37m\u001b[0m \u001b[1m22s\u001b[0m 4ms/step - loss: 0.4638 - rmsle: 0.4638 - val_loss: 0.4531 - val_rmsle: 0.4531\n",
      "Epoch 8/100\n",
      "\u001b[1m5641/5641\u001b[0m \u001b[32m━━━━━━━━━━━━━━━━━━━━\u001b[0m\u001b[37m\u001b[0m \u001b[1m26s\u001b[0m 5ms/step - loss: 0.4654 - rmsle: 0.4654 - val_loss: 0.4991 - val_rmsle: 0.4991\n",
      "Epoch 8: early stopping\n",
      "Restoring model weights from the end of the best epoch: 3.\n"
     ]
    }
   ],
   "source": [
    "history = model.fit(\n",
    "    x_scaled, y,\n",
    "    validation_split=0.01,\n",
    "    epochs=100,\n",
    "    batch_size=256,\n",
    "    callbacks=[early_stopping],\n",
    "    verbose=1\n",
    ")"
   ]
  },
  {
   "cell_type": "code",
   "execution_count": null,
   "id": "d8ce17aa",
   "metadata": {},
   "outputs": [],
   "source": [
    "plt.figure(figsize=(10, 6))\n",
    "plt.plot(history.history['loss'], label='Training RMSLE')\n",
    "plt.plot(history.history['val_loss'], label='Validation RMSLE')\n",
    "plt.title('Model RMSLE Over Epochs')\n",
    "plt.xlabel('Epoch')\n",
    "plt.ylabel('RMSLE')\n",
    "plt.legend()\n",
    "plt.grid(True)\n",
    "plt.tight_layout()\n",
    "plt.show()"
   ]
  },
  {
   "cell_type": "code",
   "execution_count": null,
   "id": "d49b75cb",
   "metadata": {},
   "outputs": [],
   "source": [
    "model.save('bully-maguire.keras')"
   ]
  },
  {
   "cell_type": "code",
   "execution_count": null,
   "id": "eb52657b",
   "metadata": {},
   "outputs": [],
   "source": [
    "test_df = pd.read_csv(r'/home/long/longdata/kaggle compe/dataset/test.csv')\n",
    "df = pd.read_csv(r'/home/long/longdata/kaggle compe/dataset/num_df.csv')\n",
    "scaler = StandardScaler()\n",
    "test_df.head()"
   ]
  },
  {
   "cell_type": "code",
   "execution_count": null,
   "id": "7a10cf25",
   "metadata": {},
   "outputs": [],
   "source": [
    "# test_df = test_df.drop(['id', 'vendor_id', 'passenger_count', 'store_and_fwd_flag'], axis=1)\n",
    "# test_df.head()"
   ]
  },
  {
   "cell_type": "code",
   "execution_count": null,
   "id": "0e921235",
   "metadata": {},
   "outputs": [],
   "source": [
    "def haversine(lat1, lon1, lat2, lon2):\n",
    "    R = 6371 \n",
    "    phi1, phi2 = np.radians(lat1), np.radians(lat2)\n",
    "    dphi = np.radians(lat2 - lat1)\n",
    "    dlambda = np.radians(lon2 - lon1)\n",
    "    a = np.sin(dphi / 2)**2 + np.cos(phi1) * np.cos(phi2) * np.sin(dlambda / 2)**2\n",
    "    return R * 2 * np.arcsin(np.sqrt(a))\n",
    "\n",
    "def bearing(lat1, lon1, lat2, lon2):\n",
    "    dLon = np.radians(lon2 - lon1)\n",
    "    lat1 = np.radians(lat1)\n",
    "    lat2 = np.radians(lat2)\n",
    "    x = np.sin(dLon) * np.cos(lat2)\n",
    "    y = np.cos(lat1)*np.sin(lat2) - np.sin(lat1)*np.cos(lat2)*np.cos(dLon)\n",
    "    return (np.degrees(np.arctan2(x, y)) + 360) % 360\n",
    "\n",
    "test_df['pickup_datetime'] = pd.to_datetime(test_df['pickup_datetime'])\n",
    "test_df['haversine_km'] = haversine(test_df['pickup_latitude'], test_df['pickup_longitude'],\n",
    "                                    test_df['dropoff_latitude'], test_df['dropoff_longitude'])\n",
    "test_df['bearing'] = bearing(test_df['pickup_latitude'], test_df['pickup_longitude'],\n",
    "                             test_df['dropoff_latitude'], test_df['dropoff_longitude'])\n",
    "test_df['trip_duration_minutes'] = test_df['trip_duration'] / 60\n",
    "test_df['log_trip_duration'] = np.log1p(test_df['trip_duration'])\n",
    "test_df['avg_speed_kph'] = test_df['haversine_km'] / (test_df['trip_duration_minutes'] / 60 + 1e-5)\n",
    "test_df['is_zero_distance'] = test_df['haversine_km'] < 0.01\n",
    "pickup_coords = df[['pickup_latitude', 'pickup_longitude']].dropna()\n",
    "dropoff_coords = df[['dropoff_latitude', 'dropoff_longitude']].dropna()\n",
    "\n",
    "pickup_kmeans = KMeans(n_clusters=10, random_state=42).fit(pickup_coords)\n",
    "dropoff_kmeans = KMeans(n_clusters=10, random_state=42).fit(dropoff_coords)\n",
    "\n",
    "test_df['pickup_cluster'] = pickup_kmeans.predict(test_df[['pickup_latitude', 'pickup_longitude']])\n",
    "test_df['dropoff_cluster'] = dropoff_kmeans.predict(test_df[['dropoff_latitude', 'dropoff_longitude']])\n",
    "\n",
    "feature_columns = ['pickup_latitude', 'pickup_longitude', 'dropoff_latitude', 'dropoff_longitude',\n",
    "                   'haversine_km', 'bearing', 'pickup_cluster', 'dropoff_cluster']\n",
    "scaler = StandardScaler()\n",
    "scaler.fit(df[feature_columns])  \n",
    "\n",
    "x_test_scaled = scaler.transform(test_df[feature_columns])  \n",
    "def rmsle(y_true, y_pred):\n",
    "    y_true = tf.cast(y_true, tf.float32)\n",
    "    y_pred = tf.cast(y_pred, tf.float32)\n",
    "    y_true = tf.clip_by_value(y_true, 1e-7, tf.reduce_max(y_true))\n",
    "    y_pred = tf.clip_by_value(y_pred, 1e-7, tf.reduce_max(y_pred))\n",
    "    log_true = tf.math.log(y_true + 1.0)\n",
    "    log_pred = tf.math.log(y_pred + 1.0)\n",
    "    return tf.sqrt(tf.reduce_mean(tf.square(log_pred - log_true)))\n",
    "\n",
    "model = load_model(\n",
    "    r'/home/long/longdata/kaggle compe/nyc-taxi-trip-duration/bully-maguire.keras',\n",
    "    custom_objects={'rmsle': rmsle}\n",
    ")\n",
    "y_pred = model.predict(x_test_scaled)\n",
    "\n",
    "test_predictions = pd.DataFrame({\n",
    "    'predictions': y_pred.flatten()\n",
    "})\n",
    "\n",
    "test_predictions.to_csv('test_pred.csv', index=False)"
   ]
  }
 ],
 "metadata": {
  "kernelspec": {
   "display_name": "base",
   "language": "python",
   "name": "python3"
  },
  "language_info": {
   "codemirror_mode": {
    "name": "ipython",
    "version": 3
   },
   "file_extension": ".py",
   "mimetype": "text/x-python",
   "name": "python",
   "nbconvert_exporter": "python",
   "pygments_lexer": "ipython3",
   "version": "3.12.9"
  }
 },
 "nbformat": 4,
 "nbformat_minor": 5
}
